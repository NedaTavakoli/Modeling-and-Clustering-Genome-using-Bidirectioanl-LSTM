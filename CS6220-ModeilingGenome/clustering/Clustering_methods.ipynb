{
 "cells": [
  {
   "cell_type": "code",
   "execution_count": 1,
   "metadata": {},
   "outputs": [],
   "source": [
    "%config IPCompleter.greedy=True\n",
    "\n",
    "\n",
    "from sklearn.cluster import KMeans, DBSCAN, MeanShift\n",
    "from sklearn import datasets\n",
    "from sklearn.manifold import TSNE\n",
    "from sklearn.mixture import GaussianMixture\n",
    "import matplotlib.pyplot as plt\n",
    "from pylab import plot, show\n",
    "from sklearn.decomposition import PCA\n",
    "from sklearn.ensemble import VotingClassifier\n",
    "from sklearn.metrics import silhouette_samples, silhouette_score\n",
    "import pandas as pd\n",
    "import numpy as np\n"
   ]
  },
  {
   "cell_type": "code",
   "execution_count": 2,
   "metadata": {},
   "outputs": [
    {
     "data": {
      "text/plain": [
       "array([[-2.28603967e-05, -1.06819032e-03,  7.24777274e-05, ...,\n",
       "         4.83475000e-01, -1.49935513e-04, -1.02330244e-03],\n",
       "       [ 1.94452573e-02, -1.96926226e-03,  7.75452331e-03, ...,\n",
       "        -6.87566102e-02, -3.06257993e-01,  3.22896689e-01],\n",
       "       [ 1.04616001e-01, -6.39605522e-02,  6.90813288e-02, ...,\n",
       "        -3.07952607e-04, -3.71909291e-01,  3.14261802e-02],\n",
       "       ...,\n",
       "       [-4.81366320e-03, -2.08850224e-02,  5.67212813e-02, ...,\n",
       "         1.53312099e-03, -6.15073740e-02,  4.05471474e-02],\n",
       "       [-8.34628195e-02, -2.48330403e-02,  6.09705634e-02, ...,\n",
       "        -1.50890589e-01, -1.30891681e-01,  1.00428768e-01],\n",
       "       [-2.08488875e-03, -3.02624051e-03,  1.29533233e-02, ...,\n",
       "        -5.53351315e-03,  7.92861342e-01,  9.13293660e-03]])"
      ]
     },
     "execution_count": 2,
     "metadata": {},
     "output_type": "execute_result"
    }
   ],
   "source": [
    "\n",
    "arr = np.genfromtxt('../data/text_vectors_lane_hidden_state_200.csv', delimiter=',')\n",
    "arr\n",
    "# df = pd.read_csv('[Query-List of sequences]-MT-human_clean40_genome_embeddings_sigmoid.csv')"
   ]
  },
  {
   "cell_type": "code",
   "execution_count": 3,
   "metadata": {},
   "outputs": [],
   "source": [
    "# df"
   ]
  },
  {
   "cell_type": "code",
   "execution_count": 4,
   "metadata": {},
   "outputs": [],
   "source": [
    "# arr = df.values"
   ]
  },
  {
   "cell_type": "code",
   "execution_count": 5,
   "metadata": {},
   "outputs": [
    {
     "data": {
      "text/plain": [
       "array([[-2.28603967e-05, -1.06819032e-03,  7.24777274e-05, ...,\n",
       "         4.83475000e-01, -1.49935513e-04, -1.02330244e-03],\n",
       "       [ 1.94452573e-02, -1.96926226e-03,  7.75452331e-03, ...,\n",
       "        -6.87566102e-02, -3.06257993e-01,  3.22896689e-01],\n",
       "       [ 1.04616001e-01, -6.39605522e-02,  6.90813288e-02, ...,\n",
       "        -3.07952607e-04, -3.71909291e-01,  3.14261802e-02],\n",
       "       ...,\n",
       "       [-4.81366320e-03, -2.08850224e-02,  5.67212813e-02, ...,\n",
       "         1.53312099e-03, -6.15073740e-02,  4.05471474e-02],\n",
       "       [-8.34628195e-02, -2.48330403e-02,  6.09705634e-02, ...,\n",
       "        -1.50890589e-01, -1.30891681e-01,  1.00428768e-01],\n",
       "       [-2.08488875e-03, -3.02624051e-03,  1.29533233e-02, ...,\n",
       "        -5.53351315e-03,  7.92861342e-01,  9.13293660e-03]])"
      ]
     },
     "execution_count": 5,
     "metadata": {},
     "output_type": "execute_result"
    }
   ],
   "source": [
    "arr"
   ]
  },
  {
   "cell_type": "code",
   "execution_count": 6,
   "metadata": {},
   "outputs": [
    {
     "data": {
      "text/plain": [
       "140"
      ]
     },
     "execution_count": 6,
     "metadata": {},
     "output_type": "execute_result"
    }
   ],
   "source": [
    "len(arr)"
   ]
  },
  {
   "cell_type": "code",
   "execution_count": 7,
   "metadata": {},
   "outputs": [
    {
     "data": {
      "text/plain": [
       "200"
      ]
     },
     "execution_count": 7,
     "metadata": {},
     "output_type": "execute_result"
    }
   ],
   "source": [
    "len(arr[0])"
   ]
  },
  {
   "cell_type": "code",
   "execution_count": 8,
   "metadata": {},
   "outputs": [],
   "source": [
    "def evaluate_kmeans():\n",
    "    max_score = -1\n",
    "    predicted_labels_final = []\n",
    "    clusters = 0\n",
    "    for i in range(2, 100):\n",
    "        model = KMeans(n_clusters=i)\n",
    "        model.fit(arr)\n",
    "        predicted_labels = model.predict(arr)\n",
    "        silhouette_avg = silhouette_score(arr, predicted_labels)\n",
    "        \n",
    "#         print (i)\n",
    "#         print (silhouette_avg)\n",
    "        if(max_score < silhouette_avg):\n",
    "            max_score = silhouette_avg\n",
    "            predicted_labels_final = predicted_labels\n",
    "            clusters = i\n",
    "    return max_score, predicted_labels_final, clusters"
   ]
  },
  {
   "cell_type": "code",
   "execution_count": 9,
   "metadata": {},
   "outputs": [],
   "source": [
    "def evaluate_gmm():\n",
    "    max_score = -1\n",
    "    predicted_labels_final = []\n",
    "    clusters = 0\n",
    "    for i in range(2, 100):\n",
    "        gmm = GaussianMixture(n_components= i, init_params='kmeans')\n",
    "        gmm = gmm.fit(arr)\n",
    "        predicted_labels = gmm.predict(arr)\n",
    "        silhouette_avg = silhouette_score(arr, predicted_labels)\n",
    "        if(max_score < silhouette_avg):\n",
    "            max_score = silhouette_avg\n",
    "            predicted_labels_final = predicted_labels\n",
    "            clusters = i\n",
    "            \n",
    "    for i in range(2, 100):\n",
    "        gmm = GaussianMixture(n_components= i, init_params='random')\n",
    "        gmm = gmm.fit(arr)\n",
    "        predicted_labels = gmm.predict(arr)\n",
    "        silhouette_avg = silhouette_score(arr, predicted_labels)\n",
    "        if(max_score < silhouette_avg):\n",
    "            max_score = silhouette_avg\n",
    "            predicted_labels_final = predicted_labels\n",
    "            clusters = i\n",
    "            \n",
    "    return max_score, predicted_labels_final, clusters"
   ]
  },
  {
   "cell_type": "code",
   "execution_count": 10,
   "metadata": {},
   "outputs": [],
   "source": [
    "def evaluate_dbscan():\n",
    "    max_score = -1\n",
    "    predicted_labels_final = []\n",
    "    clusters = 0\n",
    "    for i in range(1, 10000, 1):\n",
    "        for j in range(50, 200, 10):\n",
    "            eps = i*0.5\n",
    "            dbscan = DBSCAN(eps=i,min_samples=j)\n",
    "            dbscan.fit(arr)\n",
    "            predicted_labels = dbscan.labels_\n",
    "#             print (eps)\n",
    "#             print (j)\n",
    "#             print (predicted_labels)\n",
    "            \n",
    "            labels, count = np.unique(predicted_labels, return_counts= True)\n",
    "            if (len(labels) == 1):\n",
    "                continue\n",
    "            silhouette_avg = silhouette_score(arr, predicted_labels)\n",
    "            silhouette_avg\n",
    "            if(max_score < silhouette_avg):\n",
    "                max_score = silhouette_avg\n",
    "                predicted_labels_final = predicted_labels\n",
    "                clusters = labels\n",
    "                \n",
    "    return max_score, predicted_labels_final, clusters"
   ]
  },
  {
   "cell_type": "code",
   "execution_count": 11,
   "metadata": {},
   "outputs": [
    {
     "name": "stderr",
     "output_type": "stream",
     "text": [
      "/Users/richa/opt/anaconda3/lib/python3.7/site-packages/sklearn/cluster/k_means_.py:972: ConvergenceWarning: Number of distinct clusters (90) found smaller than n_clusters (91). Possibly due to duplicate points in X.\n",
      "  return_n_iter=True)\n",
      "/Users/richa/opt/anaconda3/lib/python3.7/site-packages/sklearn/cluster/k_means_.py:972: ConvergenceWarning: Number of distinct clusters (90) found smaller than n_clusters (92). Possibly due to duplicate points in X.\n",
      "  return_n_iter=True)\n",
      "/Users/richa/opt/anaconda3/lib/python3.7/site-packages/sklearn/cluster/k_means_.py:972: ConvergenceWarning: Number of distinct clusters (90) found smaller than n_clusters (93). Possibly due to duplicate points in X.\n",
      "  return_n_iter=True)\n",
      "/Users/richa/opt/anaconda3/lib/python3.7/site-packages/sklearn/cluster/k_means_.py:972: ConvergenceWarning: Number of distinct clusters (90) found smaller than n_clusters (94). Possibly due to duplicate points in X.\n",
      "  return_n_iter=True)\n",
      "/Users/richa/opt/anaconda3/lib/python3.7/site-packages/sklearn/cluster/k_means_.py:972: ConvergenceWarning: Number of distinct clusters (90) found smaller than n_clusters (95). Possibly due to duplicate points in X.\n",
      "  return_n_iter=True)\n",
      "/Users/richa/opt/anaconda3/lib/python3.7/site-packages/sklearn/cluster/k_means_.py:972: ConvergenceWarning: Number of distinct clusters (90) found smaller than n_clusters (96). Possibly due to duplicate points in X.\n",
      "  return_n_iter=True)\n",
      "/Users/richa/opt/anaconda3/lib/python3.7/site-packages/sklearn/cluster/k_means_.py:972: ConvergenceWarning: Number of distinct clusters (90) found smaller than n_clusters (97). Possibly due to duplicate points in X.\n",
      "  return_n_iter=True)\n",
      "/Users/richa/opt/anaconda3/lib/python3.7/site-packages/sklearn/cluster/k_means_.py:972: ConvergenceWarning: Number of distinct clusters (90) found smaller than n_clusters (98). Possibly due to duplicate points in X.\n",
      "  return_n_iter=True)\n",
      "/Users/richa/opt/anaconda3/lib/python3.7/site-packages/sklearn/cluster/k_means_.py:972: ConvergenceWarning: Number of distinct clusters (90) found smaller than n_clusters (99). Possibly due to duplicate points in X.\n",
      "  return_n_iter=True)\n"
     ]
    },
    {
     "data": {
      "text/plain": [
       "(0.7142857026411704,\n",
       " array([12, 13, 14, 33, 15, 51,  6, 18, 23, 44, 35, 25, 50, 75, 11, 20,  4,\n",
       "        42,  1, 58, 56, 27, 34, 10,  9,  0, 22, 32, 41, 57, 54,  8, 59, 55,\n",
       "        68, 26, 69,  3, 37, 17, 48, 45, 16,  2,  7,  5, 52, 38, 76, 70, 12,\n",
       "        13, 14, 33, 15, 51,  6, 18, 23, 44, 35, 25, 50, 75, 11, 20,  4, 42,\n",
       "         1, 58, 56, 27, 34, 10,  9,  0, 22, 32, 41, 57, 54,  8, 59, 55, 68,\n",
       "        26, 69,  3, 37, 17, 48, 45, 16,  2,  7,  5, 52, 38, 76, 70, 86, 82,\n",
       "        87, 73, 64, 66, 40, 28, 36, 77, 49, 24, 61, 43, 89, 74, 71, 88, 83,\n",
       "        29, 62, 67, 46, 63, 60, 79, 47, 85, 81, 72, 80, 30, 39, 53, 31, 65,\n",
       "        19, 78, 84, 21], dtype=int32),\n",
       " 90)"
      ]
     },
     "execution_count": 11,
     "metadata": {},
     "output_type": "execute_result"
    }
   ],
   "source": [
    "score_kmeans, predicted_label_kmeans, cluster_kmeans = evaluate_kmeans()\n",
    "score_kmeans, predicted_label_kmeans, cluster_kmeans"
   ]
  },
  {
   "cell_type": "code",
   "execution_count": 12,
   "metadata": {},
   "outputs": [
    {
     "data": {
      "text/plain": [
       "(0.7142857026411704,\n",
       " array([12, 13, 14, 33, 15, 51,  6, 18, 23, 44, 35, 25, 50, 75, 11, 20,  4,\n",
       "        42,  1, 58, 56, 27, 34, 10,  9,  0, 22, 32, 41, 57, 54,  8, 59, 55,\n",
       "        68, 26, 69,  3, 37, 17, 48, 45, 16,  2,  7,  5, 52, 38, 76, 70, 12,\n",
       "        13, 14, 33, 15, 51,  6, 18, 23, 44, 35, 25, 50, 75, 11, 20,  4, 42,\n",
       "         1, 58, 56, 27, 34, 10,  9,  0, 22, 32, 41, 57, 54,  8, 59, 55, 68,\n",
       "        26, 69,  3, 37, 17, 48, 45, 16,  2,  7,  5, 52, 38, 76, 70, 86, 82,\n",
       "        87, 73, 64, 66, 40, 28, 36, 77, 49, 24, 61, 43, 89, 74, 71, 88, 83,\n",
       "        29, 62, 67, 46, 63, 60, 79, 47, 85, 81, 72, 80, 30, 39, 53, 31, 65,\n",
       "        19, 78, 84, 21], dtype=int32),\n",
       " 90)"
      ]
     },
     "execution_count": 12,
     "metadata": {},
     "output_type": "execute_result"
    }
   ],
   "source": [
    "score_kmeans, predicted_label_kmeans, cluster_kmeans"
   ]
  },
  {
   "cell_type": "code",
   "execution_count": 13,
   "metadata": {},
   "outputs": [
    {
     "name": "stderr",
     "output_type": "stream",
     "text": [
      "/Users/richa/opt/anaconda3/lib/python3.7/site-packages/sklearn/cluster/k_means_.py:972: ConvergenceWarning: Number of distinct clusters (90) found smaller than n_clusters (91). Possibly due to duplicate points in X.\n",
      "  return_n_iter=True)\n",
      "/Users/richa/opt/anaconda3/lib/python3.7/site-packages/sklearn/cluster/k_means_.py:972: ConvergenceWarning: Number of distinct clusters (90) found smaller than n_clusters (92). Possibly due to duplicate points in X.\n",
      "  return_n_iter=True)\n",
      "/Users/richa/opt/anaconda3/lib/python3.7/site-packages/sklearn/cluster/k_means_.py:972: ConvergenceWarning: Number of distinct clusters (90) found smaller than n_clusters (93). Possibly due to duplicate points in X.\n",
      "  return_n_iter=True)\n",
      "/Users/richa/opt/anaconda3/lib/python3.7/site-packages/sklearn/cluster/k_means_.py:972: ConvergenceWarning: Number of distinct clusters (90) found smaller than n_clusters (94). Possibly due to duplicate points in X.\n",
      "  return_n_iter=True)\n",
      "/Users/richa/opt/anaconda3/lib/python3.7/site-packages/sklearn/cluster/k_means_.py:972: ConvergenceWarning: Number of distinct clusters (90) found smaller than n_clusters (95). Possibly due to duplicate points in X.\n",
      "  return_n_iter=True)\n",
      "/Users/richa/opt/anaconda3/lib/python3.7/site-packages/sklearn/cluster/k_means_.py:972: ConvergenceWarning: Number of distinct clusters (90) found smaller than n_clusters (96). Possibly due to duplicate points in X.\n",
      "  return_n_iter=True)\n",
      "/Users/richa/opt/anaconda3/lib/python3.7/site-packages/sklearn/cluster/k_means_.py:972: ConvergenceWarning: Number of distinct clusters (90) found smaller than n_clusters (97). Possibly due to duplicate points in X.\n",
      "  return_n_iter=True)\n",
      "/Users/richa/opt/anaconda3/lib/python3.7/site-packages/sklearn/cluster/k_means_.py:972: ConvergenceWarning: Number of distinct clusters (90) found smaller than n_clusters (98). Possibly due to duplicate points in X.\n",
      "  return_n_iter=True)\n",
      "/Users/richa/opt/anaconda3/lib/python3.7/site-packages/sklearn/cluster/k_means_.py:972: ConvergenceWarning: Number of distinct clusters (90) found smaller than n_clusters (99). Possibly due to duplicate points in X.\n",
      "  return_n_iter=True)\n"
     ]
    }
   ],
   "source": [
    "score_gmm, predicted_label_gmm, cluster_gmm = evaluate_gmm()"
   ]
  },
  {
   "cell_type": "code",
   "execution_count": 14,
   "metadata": {},
   "outputs": [],
   "source": [
    "score_dbscan, predicted_label_dbscan, clusters_dbscan = evaluate_dbscan()"
   ]
  },
  {
   "cell_type": "code",
   "execution_count": 15,
   "metadata": {},
   "outputs": [
    {
     "name": "stdout",
     "output_type": "stream",
     "text": [
      "KMeans results: \n",
      "Silhoeutte Score : 0.7142857026411704\n",
      "Number of clusters formed:  90\n"
     ]
    }
   ],
   "source": [
    " print ('KMeans results: ')\n",
    "print ('Silhoeutte Score :', score_kmeans)\n",
    "print ('Number of clusters formed: ', cluster_kmeans)"
   ]
  },
  {
   "cell_type": "markdown",
   "metadata": {},
   "source": [
    "###### predicted_labels_Gmm"
   ]
  },
  {
   "cell_type": "code",
   "execution_count": 16,
   "metadata": {},
   "outputs": [
    {
     "name": "stdout",
     "output_type": "stream",
     "text": [
      "GMM results: \n",
      "Silhoeutte Score : 0.7142857026411704\n",
      "Number of clusters formed:  90\n"
     ]
    }
   ],
   "source": [
    "print ('GMM results: ')\n",
    "print ('Silhoeutte Score :', score_gmm)\n",
    "print ('Number of clusters formed: ', cluster_gmm)"
   ]
  },
  {
   "cell_type": "code",
   "execution_count": 17,
   "metadata": {},
   "outputs": [
    {
     "name": "stdout",
     "output_type": "stream",
     "text": [
      "DBSCAN results: \n",
      "Silhoeutte Score : 0.2821206953089342\n",
      "Number of clusters formed:  [-1  0]\n"
     ]
    }
   ],
   "source": [
    "score_dbscan, predicted_label_dbscan\n",
    "print ('DBSCAN results: ')\n",
    "print ('Silhoeutte Score :', score_dbscan)\n",
    "print ('Number of clusters formed: ', clusters_dbscan)"
   ]
  },
  {
   "cell_type": "code",
   "execution_count": 18,
   "metadata": {},
   "outputs": [
    {
     "data": {
      "text/plain": [
       "array([ 0,  0,  0,  0,  0,  0,  0,  0,  0,  0,  0,  0,  0,  0,  0,  0,  0,\n",
       "        0,  0,  0,  0,  0,  0,  0,  0,  0,  0,  0,  0,  0,  0,  0,  0,  0,\n",
       "        0,  0,  0,  0,  0,  0,  0,  0,  0, -1,  0,  0,  0,  0,  0,  0,  0,\n",
       "        0,  0,  0,  0,  0,  0,  0,  0,  0,  0,  0,  0,  0,  0,  0,  0,  0,\n",
       "        0,  0,  0,  0,  0,  0,  0,  0,  0,  0,  0,  0,  0,  0,  0,  0,  0,\n",
       "        0,  0,  0,  0,  0,  0,  0,  0, -1,  0,  0,  0,  0,  0,  0,  0,  0,\n",
       "        0,  0,  0,  0, -1, -1,  0,  0,  0,  0,  0,  0,  0,  0,  0,  0,  0,\n",
       "       -1, -1,  0,  0,  0,  0,  0,  0,  0,  0,  0,  0,  0,  0,  0,  0,  0,\n",
       "       -1,  0,  0, -1])"
      ]
     },
     "execution_count": 18,
     "metadata": {},
     "output_type": "execute_result"
    }
   ],
   "source": [
    "predicted_label_dbscan"
   ]
  },
  {
   "cell_type": "code",
   "execution_count": null,
   "metadata": {},
   "outputs": [],
   "source": []
  }
 ],
 "metadata": {
  "kernelspec": {
   "display_name": "Python 3",
   "language": "python",
   "name": "python3"
  },
  "language_info": {
   "codemirror_mode": {
    "name": "ipython",
    "version": 3
   },
   "file_extension": ".py",
   "mimetype": "text/x-python",
   "name": "python",
   "nbconvert_exporter": "python",
   "pygments_lexer": "ipython3",
   "version": "3.7.4"
  }
 },
 "nbformat": 4,
 "nbformat_minor": 2
}
