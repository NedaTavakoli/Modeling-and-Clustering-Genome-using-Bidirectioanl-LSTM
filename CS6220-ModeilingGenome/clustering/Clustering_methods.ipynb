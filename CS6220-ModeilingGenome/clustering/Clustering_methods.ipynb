{
 "cells": [
  {
   "cell_type": "code",
   "execution_count": 1,
   "metadata": {},
   "outputs": [],
   "source": [
    "%config IPCompleter.greedy=True\n",
    "\n",
    "\n",
    "from sklearn.cluster import KMeans, DBSCAN, MeanShift\n",
    "from sklearn import datasets\n",
    "from sklearn.manifold import TSNE\n",
    "from sklearn.mixture import GaussianMixture\n",
    "import matplotlib.pyplot as plt\n",
    "from pylab import plot, show\n",
    "from sklearn.decomposition import PCA\n",
    "from sklearn.ensemble import VotingClassifier\n",
    "from sklearn.metrics import silhouette_samples, silhouette_score\n",
    "import pandas as pd\n",
    "import numpy as np\n"
   ]
  },
  {
   "cell_type": "code",
   "execution_count": 48,
   "metadata": {},
   "outputs": [
    {
     "data": {
      "text/plain": [
       "array([[ 0.21519931,  0.36393675, -0.13370533, ..., -0.01516642,\n",
       "        -0.06047211, -0.13087204],\n",
       "       [ 0.3808372 ,  0.58418429, -0.17480835, ...,  0.01664701,\n",
       "        -0.35107023, -0.12798193],\n",
       "       [ 0.48341382,  0.22605367,  0.04467154, ..., -0.04441803,\n",
       "        -0.19019586, -0.01787082],\n",
       "       ...,\n",
       "       [ 0.45108712,  0.45821798, -0.12095217, ..., -0.01665671,\n",
       "        -0.07261989, -0.29325044],\n",
       "       [ 0.36358026,  0.45835215, -0.07796567, ...,  0.04284245,\n",
       "        -0.09766971, -0.02979607],\n",
       "       [ 0.29455891,  0.51160836, -0.18116045, ..., -0.03222241,\n",
       "        -0.18442872, -0.06324843]])"
      ]
     },
     "execution_count": 48,
     "metadata": {},
     "output_type": "execute_result"
    }
   ],
   "source": [
    "\n",
    "arr = np.genfromtxt('../Outputs/Ref/MT-human_clean2_genome_embeddings.csv', delimiter=',')\n",
    "arr\n",
    "# df = pd.read_csv('[Query-List of sequences]-MT-human_clean40_genome_embeddings_sigmoid.csv')"
   ]
  },
  {
   "cell_type": "code",
   "execution_count": 49,
   "metadata": {},
   "outputs": [],
   "source": [
    "# df"
   ]
  },
  {
   "cell_type": "code",
   "execution_count": 50,
   "metadata": {},
   "outputs": [],
   "source": [
    "# arr = df.values"
   ]
  },
  {
   "cell_type": "code",
   "execution_count": 51,
   "metadata": {},
   "outputs": [
    {
     "data": {
      "text/plain": [
       "array([[ 0.21519931,  0.36393675, -0.13370533, ..., -0.01516642,\n",
       "        -0.06047211, -0.13087204],\n",
       "       [ 0.3808372 ,  0.58418429, -0.17480835, ...,  0.01664701,\n",
       "        -0.35107023, -0.12798193],\n",
       "       [ 0.48341382,  0.22605367,  0.04467154, ..., -0.04441803,\n",
       "        -0.19019586, -0.01787082],\n",
       "       ...,\n",
       "       [ 0.45108712,  0.45821798, -0.12095217, ..., -0.01665671,\n",
       "        -0.07261989, -0.29325044],\n",
       "       [ 0.36358026,  0.45835215, -0.07796567, ...,  0.04284245,\n",
       "        -0.09766971, -0.02979607],\n",
       "       [ 0.29455891,  0.51160836, -0.18116045, ..., -0.03222241,\n",
       "        -0.18442872, -0.06324843]])"
      ]
     },
     "execution_count": 51,
     "metadata": {},
     "output_type": "execute_result"
    }
   ],
   "source": [
    "arr"
   ]
  },
  {
   "cell_type": "code",
   "execution_count": 52,
   "metadata": {},
   "outputs": [
    {
     "data": {
      "text/plain": [
       "690"
      ]
     },
     "execution_count": 52,
     "metadata": {},
     "output_type": "execute_result"
    }
   ],
   "source": [
    "len(arr)"
   ]
  },
  {
   "cell_type": "code",
   "execution_count": 53,
   "metadata": {},
   "outputs": [
    {
     "data": {
      "text/plain": [
       "1000"
      ]
     },
     "execution_count": 53,
     "metadata": {},
     "output_type": "execute_result"
    }
   ],
   "source": [
    "len(arr[0])"
   ]
  },
  {
   "cell_type": "code",
   "execution_count": 54,
   "metadata": {},
   "outputs": [],
   "source": [
    "def evaluate_kmeans():\n",
    "    max_score = -1\n",
    "    predicted_labels_final = []\n",
    "    clusters = 0\n",
    "    for i in range(2, 100):\n",
    "        model = KMeans(n_clusters=i)\n",
    "        model.fit(arr)\n",
    "        predicted_labels = model.predict(arr)\n",
    "        silhouette_avg = silhouette_score(arr, predicted_labels)\n",
    "        \n",
    "#         print (i)\n",
    "#         print (silhouette_avg)\n",
    "        if(max_score < silhouette_avg):\n",
    "            max_score = silhouette_avg\n",
    "            predicted_labels_final = predicted_labels\n",
    "            clusters = i\n",
    "    return max_score, predicted_labels_final, clusters"
   ]
  },
  {
   "cell_type": "code",
   "execution_count": 55,
   "metadata": {},
   "outputs": [],
   "source": [
    "def evaluate_gmm():\n",
    "    max_score = -1\n",
    "    predicted_labels_final = []\n",
    "    clusters = 0\n",
    "    for i in range(2, 100):\n",
    "        gmm = GaussianMixture(n_components= i, init_params='kmeans')\n",
    "        gmm = gmm.fit(arr)\n",
    "        predicted_labels = gmm.predict(arr)\n",
    "        silhouette_avg = silhouette_score(arr, predicted_labels)\n",
    "        if(max_score < silhouette_avg):\n",
    "            max_score = silhouette_avg\n",
    "            predicted_labels_final = predicted_labels\n",
    "            clusters = i\n",
    "            \n",
    "    for i in range(2, 100):\n",
    "        gmm = GaussianMixture(n_components= i, init_params='random')\n",
    "        gmm = gmm.fit(arr)\n",
    "        predicted_labels = gmm.predict(arr)\n",
    "        silhouette_avg = silhouette_score(arr, predicted_labels)\n",
    "        if(max_score < silhouette_avg):\n",
    "            max_score = silhouette_avg\n",
    "            predicted_labels_final = predicted_labels\n",
    "            clusters = i\n",
    "            \n",
    "    return max_score, predicted_labels_final, clusters"
   ]
  },
  {
   "cell_type": "code",
   "execution_count": 56,
   "metadata": {},
   "outputs": [],
   "source": [
    "def evaluate_dbscan():\n",
    "    max_score = -1\n",
    "    predicted_labels_final = []\n",
    "    clusters = 0\n",
    "    for i in range(1, 10000, 1):\n",
    "        for j in range(50, 200, 10):\n",
    "            eps = i*0.5\n",
    "            dbscan = DBSCAN(eps=i,min_samples=j)\n",
    "            dbscan.fit(arr)\n",
    "            predicted_labels = dbscan.labels_\n",
    "#             print (eps)\n",
    "#             print (j)\n",
    "#             print (predicted_labels)\n",
    "            \n",
    "            labels, count = np.unique(predicted_labels, return_counts= True)\n",
    "            if (len(labels) == 1):\n",
    "                continue\n",
    "            silhouette_avg = silhouette_score(arr, predicted_labels)\n",
    "            silhouette_avg\n",
    "            if(max_score < silhouette_avg):\n",
    "                max_score = silhouette_avg\n",
    "                predicted_labels_final = predicted_labels\n",
    "                clusters = labels\n",
    "                \n",
    "    return max_score, predicted_labels_final, clusters"
   ]
  },
  {
   "cell_type": "code",
   "execution_count": null,
   "metadata": {},
   "outputs": [],
   "source": [
    "score_kmeans, predicted_label_kmeans, cluster_kmeans = evaluate_kmeans()\n",
    "score_gmm, predicted_label_gmm, cluster_gmm = evaluate_gmm()\n",
    "score_dbscan, predicted_label_dbscan, clusters_dbscan = evaluate_dbscan()"
   ]
  },
  {
   "cell_type": "code",
   "execution_count": 25,
   "metadata": {},
   "outputs": [
    {
     "name": "stdout",
     "output_type": "stream",
     "text": [
      "KMeans results: \n",
      "Silhoeutte Score : 0.7215250882219149\n",
      "Number of clusters formed:  84\n"
     ]
    }
   ],
   "source": [
    " print ('KMeans results: ')\n",
    "print ('Silhoeutte Score :', score_kmeans)\n",
    "print ('Number of clusters formed: ', cluster_kmeans)\n"
   ]
  },
  {
   "cell_type": "markdown",
   "metadata": {},
   "source": [
    "###### predicted_labels_Gmm"
   ]
  },
  {
   "cell_type": "code",
   "execution_count": 26,
   "metadata": {},
   "outputs": [
    {
     "name": "stdout",
     "output_type": "stream",
     "text": [
      "GMM results: \n",
      "Silhoeutte Score : 0.7241381231835629\n",
      "Number of clusters formed:  87\n"
     ]
    }
   ],
   "source": [
    "print ('GMM results: ')\n",
    "print ('Silhoeutte Score :', score_gmm)\n",
    "print ('Number of clusters formed: ', cluster_gmm)"
   ]
  },
  {
   "cell_type": "markdown",
   "metadata": {},
   "source": []
  },
  {
   "cell_type": "code",
   "execution_count": 27,
   "metadata": {},
   "outputs": [
    {
     "name": "stdout",
     "output_type": "stream",
     "text": [
      "DBSCAN results: \n",
      "Silhoeutte Score : 0.3699004254163586\n",
      "Number of clusters formed:  [-1  0]\n"
     ]
    }
   ],
   "source": [
    "print ('DBSCAN results: ')\n",
    "print ('Silhoeutte Score :', score_dbscan)\n",
    "print ('Number of clusters formed: ', clusters_dbscan)"
   ]
  },
  {
   "cell_type": "code",
   "execution_count": 43,
   "metadata": {},
   "outputs": [],
   "source": [
    "def findGroups(results, size):\n",
    "    res = [None]*(size+1)\n",
    "    \n",
    "    for i in range(0, len(results)):\n",
    "        val = results[i]\n",
    "        if(val == -1):\n",
    "            continue\n",
    "        if(res[val] == None):\n",
    "            res[val] = [i]\n",
    "        else:\n",
    "            res[val].append(i)\n",
    "        \n",
    "    return res"
   ]
  },
  {
   "cell_type": "code",
   "execution_count": 44,
   "metadata": {},
   "outputs": [],
   "source": [
    "groups_kmeans = findGroups(predicted_label_kmeans, cluster_kmeans)\n",
    "groups_gmm = findGroups(predicted_label_gmm, cluster_gmm)\n",
    "groups_dbcan = findGroups(predicted_label_dbscan, len(clusters_dbscan))"
   ]
  },
  {
   "cell_type": "code",
   "execution_count": 45,
   "metadata": {},
   "outputs": [
    {
     "name": "stdout",
     "output_type": "stream",
     "text": [
      "KMM Groups: \n",
      "[[115], [135], [24, 74, 114], [131], [37, 87], [48, 98], [44, 94], [7, 57], [49, 99], [43, 93], [17, 67], [22, 72], [136], [20, 70], [5, 55], [19, 69], [45, 95], [108], [27, 77], [106], [12, 62], [1, 51], [14, 64], [0, 50], [31, 81], [39, 89], [42, 92], [3, 53], [119], [120], [38, 88], [130, 132], [30, 80], [4, 54], [139], [9, 59], [28, 78], [13, 63], [26, 76], [23, 73], [107], [10, 60], [36, 86], [29, 79], [41, 91], [25, 75], [126], [40, 90], [35, 85], [110], [8, 58], [33, 83], [18, 68], [124], [11, 61], [133], [21, 71], [46, 96], [34, 84], [15, 65], [47, 97], [112], [6, 56], [113, 125], [32, 82], [2, 52], [116], [101, 118], [109], [111], [16, 66, 102], [105], [104], [122], [129], [134], [100, 128], [121], [137], [117], [123], [138], [127], [103], None]\n"
     ]
    }
   ],
   "source": [
    "print ('KMM Groups: ')\n",
    "print(groups_kmeans)"
   ]
  },
  {
   "cell_type": "code",
   "execution_count": 46,
   "metadata": {},
   "outputs": [
    {
     "name": "stdout",
     "output_type": "stream",
     "text": [
      "GMM Groups: \n",
      "[[139], [118], [47, 97], [113, 125], [5, 55], [48, 98], [44, 94], [13, 63], [131], [27, 77], [45, 95], [43, 93], [29, 79], [10, 60], [30, 80], [7, 57], [20, 70], [42, 92], [28, 78], [4, 54], [39, 89], [46, 96], [106], [19, 69], [3, 53], [1, 51], [21, 71], [114], [14, 64], [12, 62], [34, 84], [119], [108], [130, 132], [26, 76], [120], [9, 59], [102], [110], [38, 88], [31, 81], [123], [107], [23, 73], [35, 85], [25, 75], [36, 86], [136], [2, 52], [33, 83], [8, 58], [41, 91], [22, 72], [124], [6, 56], [15, 65], [37, 87], [109], [112], [133], [0, 50], [32, 82], [40, 90], [126], [122], [17, 67], [11, 61], [121], [116], [104], [129], [111], [18, 68], [105], [115], [134], [135], [100, 128], [103], [137], [127], [16, 66], [117], [49, 99], [24, 74], [138], [101], None]\n"
     ]
    }
   ],
   "source": [
    "print('GMM Groups: ')\n",
    "print(groups_gmm)"
   ]
  },
  {
   "cell_type": "code",
   "execution_count": 47,
   "metadata": {},
   "outputs": [
    {
     "name": "stdout",
     "output_type": "stream",
     "text": [
      "DBSCAN Groups: \n",
      "[[0, 1, 2, 3, 4, 5, 6, 7, 8, 9, 10, 11, 12, 13, 14, 15, 16, 17, 18, 19, 20, 21, 22, 23, 24, 25, 26, 27, 28, 29, 30, 31, 32, 33, 34, 35, 36, 37, 38, 39, 40, 41, 42, 45, 46, 47, 48, 49, 50, 51, 52, 53, 54, 55, 56, 57, 58, 59, 60, 61, 62, 63, 64, 65, 66, 67, 68, 69, 70, 71, 72, 73, 74, 75, 76, 77, 78, 79, 80, 81, 82, 83, 84, 85, 86, 87, 88, 89, 90, 91, 92, 95, 96, 97, 98, 99, 100, 101, 102, 103, 104, 105, 106, 107, 108, 109, 110, 111, 112, 113, 114, 115, 116, 117, 118, 119, 121, 122, 123, 124, 125, 126, 127, 128, 129, 130, 131, 132, 133, 134, 135, 136, 137, 138, 139], None, None]\n"
     ]
    }
   ],
   "source": [
    "print('DBSCAN Groups: ')\n",
    "print (groups_dbcan)"
   ]
  },
  {
   "cell_type": "code",
   "execution_count": null,
   "metadata": {},
   "outputs": [],
   "source": []
  }
 ],
 "metadata": {
  "kernelspec": {
   "display_name": "Python 3",
   "language": "python",
   "name": "python3"
  },
  "language_info": {
   "codemirror_mode": {
    "name": "ipython",
    "version": 3
   },
   "file_extension": ".py",
   "mimetype": "text/x-python",
   "name": "python",
   "nbconvert_exporter": "python",
   "pygments_lexer": "ipython3",
   "version": "3.7.4"
  }
 },
 "nbformat": 4,
 "nbformat_minor": 2
}
