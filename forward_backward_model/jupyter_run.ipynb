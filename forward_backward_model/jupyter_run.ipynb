{
 "nbformat": 4,
 "nbformat_minor": 0,
 "metadata": {
  "colab": {
   "name": "jupyter_run.ipynb",
   "provenance": [],
   "collapsed_sections": []
  },
  "kernelspec": {
   "name": "python3",
   "display_name": "Python 3"
  },
  "accelerator": "GPU",
  "pycharm": {
   "stem_cell": {
    "cell_type": "raw",
    "source": [],
    "metadata": {
     "collapsed": false
    }
   }
  }
 },
 "cells": [
  {
   "cell_type": "code",
   "metadata": {
    "id": "8jWW9HbhABMx",
    "colab_type": "code",
    "colab": {}
   },
   "source": [
    "import zipfile"
   ],
   "execution_count": 0,
   "outputs": []
  },
  {
   "cell_type": "code",
   "metadata": {
    "id": "eRCmKR3G_ZXE",
    "colab_type": "code",
    "colab": {}
   },
   "source": [
    "# For Google Colab, upload zip file of code then run this cell\n",
    "zip = zipfile.ZipFile('python_files.zip')\n",
    "zip.extractall()"
   ],
   "execution_count": 0,
   "outputs": []
  },
  {
   "cell_type": "code",
   "metadata": {
    "id": "HoJUvfGi-YXh",
    "colab_type": "code",
    "colab": {}
   },
   "source": [
    "import torch\n",
    "import create_vector"
   ],
   "execution_count": 0,
   "outputs": []
  },
  {
   "cell_type": "code",
   "metadata": {
    "id": "qLUhKlc2-gzC",
    "colab_type": "code",
    "colab": {
     "base_uri": "https://localhost:8080/",
     "height": 34
    },
    "outputId": "35be7113-0d6c-42bd-eecd-f643c8bb2938"
   },
   "source": [
    "torch.cuda.is_available()"
   ],
   "execution_count": 21,
   "outputs": [
    {
     "output_type": "execute_result",
     "data": {
      "text/plain": [
       "True"
      ]
     },
     "metadata": {
      "tags": []
     },
     "execution_count": 21
    }
   ]
  },
  {
   "cell_type": "code",
   "metadata": {
    "id": "atHpT9O6Atwa",
    "colab_type": "code",
    "colab": {}
   },
   "source": [
    "class args(object):\n",
    "    pass\n",
    "\n",
    "args.data = \"data/ref_genome\"\n",
    "args.query_sequences = \"query_list.csv\"\n",
    "args.embedding_size = 100\n",
    "args.hidden_size = 100\n",
    "args.num_steps = 35\n",
    "args.num_layers = 4\n",
    "args.batch_size = 20\n",
    "args.num_epochs = 4\n",
    "args.dp_keep_prob = 0.35\n",
    "args.inital_lr = 20.0\n",
    "args.save = 'dna_sequence'\n",
    "args.use_cuda = True\n",
    "args.preprocess_dna = 2\n",
    "# If you want to create model use: create_model = True\n",
    "# If you don't want to create model delete line\n",
    "args.create_model = True\n",
    "# If you want to vectorize sequences use: vectorize_sequences = True\n",
    "# If you don't want to vectorize sequences delete line\n",
    "args.vectorize_sequences = True"
   ],
   "execution_count": 0,
   "outputs": []
  },
  {
   "cell_type": "code",
   "metadata": {
    "id": "Be63P03M_Wtg",
    "colab_type": "code",
    "colab": {
     "base_uri": "https://localhost:8080/",
     "height": 462
    },
    "outputId": "8de419e7-08e2-4c64-cdd2-b79c68865c31"
   },
   "source": [
    " # Move to Cuda if available and requested.\n",
    "if torch.cuda.is_available() and args.use_cuda:\n",
    "    device = torch.device('cuda', 0)\n",
    "else:\n",
    "    device = torch.device('cpu')\n",
    "\n",
    "# Run the vectorization by calling functions in the main file, create_vector.py\n",
    "create_vector.pass_args(args)  # Pass all the arguments to be used in functions in create_vector.py\n",
    "if args.create_model:\n",
    "    word_object, train_data, valid_data, test_data = create_vector.make_dictionary()  # Object to convert between words and word ids, save to disk\n",
    "    create_vector.make_lstm_model(device, word_object, train_data, valid_data, test_data)  # Train the LSTM model, save to disk\n",
    "if args.vectorize_sequences:\n",
    "    lstm_models, word_object = create_vector.load_data()\n",
    "    create_vector.vector_seq(device, lstm_models, word_object)  # Create vectorizations using an existing LSTM model\n",
    "    create_vector.vector_word(device, lstm_models, word_object)  # Write out the word embeddings to file\n",
    "print(\"########## Done! ##########################\")"
   ],
   "execution_count": 25,
   "outputs": [
    {
     "output_type": "stream",
     "text": [
      "Vocabluary size: 5328\n",
      "########## Training ##########################\n"
     ],
     "name": "stdout"
    },
    {
     "output_type": "stream",
     "text": [
      "/content/ptb_lm.py:41: UserWarning: torch.nn.utils.clip_grad_norm is now deprecated in favor of torch.nn.utils.clip_grad_norm_.\n",
      "  model.eval()\n"
     ],
     "name": "stderr"
    },
    {
     "output_type": "stream",
     "text": [
      "Train perplexity at epoch 0:  6092.32\n",
      "Validation perplexity at epoch 0:  2627.25\n",
      "Train perplexity at epoch 1:  1934.82\n",
      "Validation perplexity at epoch 1:  1436.77\n",
      "Train perplexity at epoch 2:  1508.78\n",
      "Validation perplexity at epoch 2:  1375.62\n",
      "Train perplexity at epoch 3:  1319.57\n",
      "Validation perplexity at epoch 3:   936.24\n",
      "########## Testing ##########################\n",
      "Test Perplexity:   937.15\n"
     ],
     "name": "stdout"
    },
    {
     "output_type": "stream",
     "text": [
      "/usr/local/lib/python3.6/dist-packages/torch/serialization.py:292: UserWarning: Couldn't retrieve source code for container of type LM_LSTM. It won't be checked for correctness upon loading.\n",
      "  \"type \" + obj.__name__ + \". It won't be checked \"\n",
      "/usr/local/lib/python3.6/dist-packages/torch/serialization.py:292: UserWarning: Couldn't retrieve source code for container of type Dropout. It won't be checked for correctness upon loading.\n",
      "  \"type \" + obj.__name__ + \". It won't be checked \"\n",
      "/usr/local/lib/python3.6/dist-packages/torch/serialization.py:292: UserWarning: Couldn't retrieve source code for container of type Embedding. It won't be checked for correctness upon loading.\n",
      "  \"type \" + obj.__name__ + \". It won't be checked \"\n",
      "/usr/local/lib/python3.6/dist-packages/torch/serialization.py:292: UserWarning: Couldn't retrieve source code for container of type LSTM. It won't be checked for correctness upon loading.\n",
      "  \"type \" + obj.__name__ + \". It won't be checked \"\n",
      "/usr/local/lib/python3.6/dist-packages/torch/serialization.py:292: UserWarning: Couldn't retrieve source code for container of type Linear. It won't be checked for correctness upon loading.\n",
      "  \"type \" + obj.__name__ + \". It won't be checked \"\n"
     ],
     "name": "stderr"
    },
    {
     "output_type": "stream",
     "text": [
      "########## Done! ##########################\n"
     ],
     "name": "stdout"
    }
   ]
  },
  {
   "cell_type": "code",
   "metadata": {
    "id": "sOzPGgGVDJBz",
    "colab_type": "code",
    "colab": {}
   },
   "source": [
    ""
   ],
   "execution_count": 0,
   "outputs": []
  }
 ]
}